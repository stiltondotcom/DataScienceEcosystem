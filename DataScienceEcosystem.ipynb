{
 "cells": [
  {
   "cell_type": "markdown",
   "id": "21e603e6-ef85-48dd-ae9b-088ede94f781",
   "metadata": {},
   "source": [
    "#  Data Science Tools and Ecosystem"
   ]
  },
  {
   "cell_type": "markdown",
   "id": "014e729d-0519-443c-bb2c-7ef0af923868",
   "metadata": {},
   "source": [
    "In this notebook, Data Science Tools and Ecosystem are summarized."
   ]
  },
  {
   "cell_type": "markdown",
   "id": "d7917313-2e86-4513-b04e-c461ab077974",
   "metadata": {},
   "source": [
    "**Objectives:**\n",
    "- List popular languages for Data Science\n",
    "- List libraries commonly used in Data Science\n",
    "- List open source development environments\n",
    "- Display ordered lists, unordered lists, and tables\n",
    "- Perform mathematical operations as Python code, including comments"
   ]
  },
  {
   "cell_type": "markdown",
   "id": "87537ad7-497e-4fff-abfc-4c6f5056484f",
   "metadata": {},
   "source": [
    "Some of the popular languages that Data Scientists use are:\n",
    "1. Python\n",
    "2. R\n",
    "3. Julia\n",
    "4. SQL\n",
    "5. Scala\n",
    "6. JavaScript\n",
    "7. Java\n",
    "8. C++"
   ]
  },
  {
   "cell_type": "markdown",
   "id": "61435600-fd1a-4375-96c8-54aae3c22fde",
   "metadata": {},
   "source": [
    "Some of the commonly used libraries used by Data Scientists include:\n",
    "1. Pandas\n",
    "2. Numpy\n",
    "3. Matplotlib\n",
    "4. Scikit-learn\n",
    "5. Keras\n",
    "6. Tensorflow\n",
    "7. Pytorch\n",
    "8. Vegas\n",
    "9. BigDL\n",
    "10. GGplot2"
   ]
  },
  {
   "cell_type": "code",
   "execution_count": null,
   "id": "73285e4e-7040-47f1-8ec0-cf9c879b2f50",
   "metadata": {},
   "outputs": [],
   "source": [
    "| Data Science Tools |\n",
    "| --- |\n",
    "| Anaconda |\n",
    "| VS Code | \n",
    "| GoogleColab |"
   ]
  },
  {
   "cell_type": "markdown",
   "id": "bfbe990b-8bc7-4256-81ec-ca30d65ac660",
   "metadata": {},
   "source": [
    "| Data Science Tools |\n",
    "| --- |\n",
    "| Anaconda |\n",
    "| VS Code | \n",
    "| GoogleColab |"
   ]
  },
  {
   "cell_type": "markdown",
   "id": "7d686380-d306-4fb5-9a44-1f215b774331",
   "metadata": {},
   "source": [
    "### Below are a few examples of evaluating arithmetic expressions in Python"
   ]
  },
  {
   "cell_type": "code",
   "execution_count": 1,
   "id": "e4d6682e-df72-4189-92e2-43a9d6a4ae57",
   "metadata": {},
   "outputs": [
    {
     "data": {
      "text/plain": [
       "17"
      ]
     },
     "execution_count": 1,
     "metadata": {},
     "output_type": "execute_result"
    }
   ],
   "source": [
    "# This a simple arithmetic expression to mutiply then add integers\n",
    "(3*4)+5"
   ]
  },
  {
   "cell_type": "code",
   "execution_count": 2,
   "id": "f914b579-cce0-49d0-82b8-2a889cefb331",
   "metadata": {},
   "outputs": [
    {
     "data": {
      "text/plain": [
       "3.3333333333333335"
      ]
     },
     "execution_count": 2,
     "metadata": {},
     "output_type": "execute_result"
    }
   ],
   "source": [
    "# This will convert 200 minutes to hours by diving by 60\n",
    "200/60"
   ]
  },
  {
   "cell_type": "markdown",
   "id": "bb12a3e6-22a7-437f-bcd3-5aa8008ae4b4",
   "metadata": {},
   "source": [
    "## Author\n",
    "Mike Cukan"
   ]
  }
 ],
 "metadata": {
  "kernelspec": {
   "display_name": "Python 3 (ipykernel)",
   "language": "python",
   "name": "python3"
  },
  "language_info": {
   "codemirror_mode": {
    "name": "ipython",
    "version": 3
   },
   "file_extension": ".py",
   "mimetype": "text/x-python",
   "name": "python",
   "nbconvert_exporter": "python",
   "pygments_lexer": "ipython3",
   "version": "3.12.4"
  }
 },
 "nbformat": 4,
 "nbformat_minor": 5
}
